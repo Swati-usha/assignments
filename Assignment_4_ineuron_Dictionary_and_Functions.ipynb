{
 "cells": [
  {
   "cell_type": "markdown",
   "metadata": {},
   "source": [
    "  1. Write a Python Program(with class concepts) to find the area of the triangle using the below\n",
    "    formula.\n",
    "    area = (s*(s-a)*(s-b)*(s-c)) ** 0.5\n",
    "    Function to take the length of the sides of triangle from user should be defined in the parent\n",
    "    class and function to calculate the area should be defined in subclass."
   ]
  },
  {
   "cell_type": "code",
   "execution_count": 58,
   "metadata": {},
   "outputs": [
    {
     "name": "stdout",
     "output_type": "stream",
     "text": [
      "Enter the dimension for sides of a triangle for a , b and c :7 8 9\n",
      "Entered values are  7 8 9\n",
      "Result is  26.832815729997478\n"
     ]
    }
   ],
   "source": [
    "class TriangleArea:\n",
    "    \n",
    "    def __init__(self):\n",
    "        pass\n",
    "             \n",
    "#     instance method   \n",
    "    def set_param(self):\n",
    "        values = input(\"Enter the dimension for sides of a triangle for a , b and c :\" ).strip().split()\n",
    "        self.a = int(values[0])\n",
    "        self.b = int(values[1])\n",
    "        self.c = int(values[2])\n",
    "        print(\"Entered values are \",self.a,self.b,self.c)\n",
    "\n",
    "class SubClassTriangle(TriangleArea):\n",
    "    def calarea(self):\n",
    "        a1 = self.a\n",
    "        b1 = self.b\n",
    "        c1 = self.c\n",
    "        s = (a1+b1+c1)/2\n",
    "        res = (s*(s-a1)*(s-b1)*(s-c1))**0.5\n",
    "        print(\"Result is \",res)\n",
    "    \n",
    "    \n",
    "        \n",
    "t1 = SubClassTriangle()\n",
    "t1.set_param()\n",
    "t1.calarea()\n",
    "\n",
    "        "
   ]
  },
  {
   "cell_type": "markdown",
   "metadata": {},
   "source": [
    "1.2  Write a function filter_long_words() that takes a list of words and an integer n and returns\n",
    "the list of words that are longer than n."
   ]
  },
  {
   "cell_type": "code",
   "execution_count": 60,
   "metadata": {},
   "outputs": [
    {
     "data": {
      "text/plain": [
       "['ineuron', 'datascience', 'machine']"
      ]
     },
     "execution_count": 60,
     "metadata": {},
     "output_type": "execute_result"
    }
   ],
   "source": [
    "def filter_long_words(listt, n):\n",
    "    word_listt=[]\n",
    "    for word in listt:\n",
    "        len_word = len(word)\n",
    "        if len_word > n:\n",
    "            word_listt.append(word)\n",
    "    return word_listt        \n",
    "            \n",
    "            \n",
    "    \n",
    "filter_long_words(['neur','ineuron','datascience','machine'],5)"
   ]
  },
  {
   "cell_type": "markdown",
   "metadata": {},
   "source": [
    "2.1 Write a Python Program using function concepts that maps list of words into a list of integers representing the lengths of the corresponding words.\n",
    "\n"
   ]
  },
  {
   "cell_type": "code",
   "execution_count": 61,
   "metadata": {},
   "outputs": [
    {
     "name": "stdout",
     "output_type": "stream",
     "text": [
      "Enter the list of strings :ineuron success dedication gratitude \n",
      "[7, 7, 10, 9]\n"
     ]
    }
   ],
   "source": [
    "def word_int(list_wrd):\n",
    "    word_len =[]\n",
    "    for i in list_wrd:\n",
    "        word_len.append(len(i))\n",
    "    return word_len\n",
    "\n",
    "user_list = input(\"Enter the list of strings :\").strip().split()\n",
    "print(word_int(user_list))"
   ]
  },
  {
   "cell_type": "markdown",
   "metadata": {},
   "source": [
    "2.2 Write a python function which takes a character (i.e. a string of length 1) and returns True if it is a vowel , False otherwise. "
   ]
  },
  {
   "cell_type": "code",
   "execution_count": 67,
   "metadata": {},
   "outputs": [
    {
     "name": "stdout",
     "output_type": "stream",
     "text": [
      "Enter the character : i\n"
     ]
    },
    {
     "data": {
      "text/plain": [
       "True"
      ]
     },
     "execution_count": 67,
     "metadata": {},
     "output_type": "execute_result"
    }
   ],
   "source": [
    "def check_uni_vowel(w):\n",
    "    if len(w)==1:\n",
    "        if w in ['a','e','i','o','u']:\n",
    "            return True\n",
    "        else:\n",
    "            return False\n",
    "    else:\n",
    "         return f\"Length permitted is one.\"    \n",
    "literal = input(\"Enter the character : \")        \n",
    "check_uni_vowel(literal)        "
   ]
  },
  {
   "cell_type": "code",
   "execution_count": null,
   "metadata": {},
   "outputs": [],
   "source": []
  },
  {
   "cell_type": "code",
   "execution_count": null,
   "metadata": {},
   "outputs": [],
   "source": []
  }
 ],
 "metadata": {
  "kernelspec": {
   "display_name": "Python 3",
   "language": "python",
   "name": "python3"
  },
  "language_info": {
   "codemirror_mode": {
    "name": "ipython",
    "version": 3
   },
   "file_extension": ".py",
   "mimetype": "text/x-python",
   "name": "python",
   "nbconvert_exporter": "python",
   "pygments_lexer": "ipython3",
   "version": "3.8.3"
  }
 },
 "nbformat": 4,
 "nbformat_minor": 4
}
